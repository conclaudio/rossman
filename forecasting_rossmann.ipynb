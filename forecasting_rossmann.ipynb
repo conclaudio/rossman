{
 "cells": [
  {
   "cell_type": "code",
   "execution_count": 9,
   "metadata": {},
   "outputs": [],
   "source": [
    "import os\n",
    "os.environ[\"R_HOME\"] = r\"d:\\\\Program Files\\\\R\\\\R-4.0.2\"\n",
    "os.environ[\"PATH\"]   = r\"d:\\\\Program Files\\\\R\\\\R-4.0.2\\\\bin\\\\x64\" + \";\" + os.environ[\"PATH\"]\n",
    "from rpy2.robjects.packages import importr\n",
    "from rpy2.robjects import FloatVector\n",
    "cpm = importr('prophet')\n",
    "\n",
    "import plotly.express as px\n",
    "from jupyter_dash import JupyterDash\n",
    "import dash_core_components as dcc\n",
    "import dash_html_components as html\n",
    "from dash.dependencies import Input, Output\n",
    "import webbrowser"
   ]
  },
  {
   "cell_type": "code",
   "execution_count": 7,
   "metadata": {},
   "outputs": [
    {
     "output_type": "stream",
     "name": "stdout",
     "text": [
      "Dash app running on http://127.0.0.1:8050/\n"
     ]
    },
    {
     "output_type": "execute_result",
     "data": {
      "text/plain": [
       "True"
      ]
     },
     "metadata": {},
     "execution_count": 7
    }
   ],
   "source": [
    "\n",
    "# Build App\n",
    "app = JupyterDash(__name__)\n",
    "\n",
    "# Load Data\n",
    "# see https://plotly.com/python/px-arguments/ for more options\n",
    "import pandas as pd\n",
    "df = pd.read_csv('https://raw.githubusercontent.com/plotly/datasets/master/gapminderDataFiveYear.csv')\n",
    "\n",
    "external_stylesheets = ['https://codepen.io/chriddyp/pen/bWLwgP.css']\n",
    "\n",
    "app.layout = html.Div([\n",
    "\n",
    "       dcc.RangeSlider(\n",
    "        id='range-slider',\n",
    "        min=df['year'].min(),\n",
    "        max=df['year'].max(),\n",
    "                   marks={str(year): str(year) for year in df['year'].unique()},\n",
    "        step=None,\n",
    "        value=[1982, df['year'].max()]\n",
    "    ),\n",
    "    \n",
    "    \n",
    "   dcc.Checklist(\n",
    "       id =\"checkl_continent\" ,\n",
    "    options=[\n",
    "        {'label': 'Asia', 'value': 'Asia'},\n",
    "        {'label': 'Europe', 'value': 'Europe'},\n",
    "        {'label': 'Africa', 'value': 'Africa'},\n",
    "        {'label': 'America', 'value': 'Americas'},\n",
    "        {'label': 'All', 'value': 'all'}\n",
    "    ],\n",
    "    value=['all']\n",
    "    )  ,\n",
    "    \n",
    "        dcc.Graph(id='graph-with-slider')\n",
    "])\n",
    "\n",
    "\n",
    "@app.callback(\n",
    "    Output('graph-with-slider', 'figure'),\n",
    "    Input('range-slider', 'value'), \n",
    "    Input('checkl_continent', 'value') \n",
    ")\n",
    "\n",
    "def update_figure(selected_year, continent):\n",
    "    #print(continent)\n",
    "\n",
    "    if continent == ['all']:\n",
    "        filtered_df = df[  (df.year.isin(selected_year)  ) ]\n",
    "    else:        \n",
    "        filtered_df = df[  ( df.year.isin(selected_year)  ) & (df.continent.isin(continent) ) ]\n",
    "        #print(filtered_df.head() )   \n",
    "\n",
    "    fig = px.scatter(filtered_df, x=\"gdpPercap\", y=\"lifeExp\",\n",
    "                     size=\"pop\", color=\"continent\", hover_name=\"country\",\n",
    "                     log_x=True, size_max=55)\n",
    "\n",
    "    fig.update_layout(transition_duration=500)\n",
    "\n",
    "    return fig\n",
    "\n",
    "\n",
    "# Run app and display result inline in the notebook\n",
    "app.run_server(mode='external')  # inline   jupyterlab external inline\n",
    "url = 'http://127.0.0.1:8050/'\n",
    "webbrowser.open(url)"
   ]
  },
  {
   "cell_type": "code",
   "execution_count": 6,
   "metadata": {},
   "outputs": [
    {
     "output_type": "execute_result",
     "data": {
      "text/plain": [
       "True"
      ]
     },
     "metadata": {},
     "execution_count": 6
    }
   ],
   "source": []
  },
  {
   "cell_type": "code",
   "execution_count": 4,
   "metadata": {},
   "outputs": [
    {
     "output_type": "execute_result",
     "data": {
      "text/plain": [
       "          country  year         pop continent  lifeExp    gdpPercap\n",
       "6     Afghanistan  1982  12881816.0      Asia   39.854   978.011439\n",
       "7     Afghanistan  1987  13867957.0      Asia   40.822   852.395945\n",
       "18        Albania  1982   2780097.0    Europe   70.420  3630.880722\n",
       "19        Albania  1987   3075321.0    Europe   72.000  3738.932735\n",
       "30        Algeria  1982  20033753.0    Africa   61.368  5745.160213\n",
       "...           ...   ...         ...       ...      ...          ...\n",
       "1675  Yemen, Rep.  1987  11219340.0      Asia   52.922  1971.741538\n",
       "1686       Zambia  1982   6100407.0    Africa   51.821  1408.678565\n",
       "1687       Zambia  1987   7272406.0    Africa   50.821  1213.315116\n",
       "1698     Zimbabwe  1982   7636524.0    Africa   60.363   788.855041\n",
       "1699     Zimbabwe  1987   9216418.0    Africa   62.351   706.157306\n",
       "\n",
       "[284 rows x 6 columns]"
      ],
      "text/html": "<div>\n<style scoped>\n    .dataframe tbody tr th:only-of-type {\n        vertical-align: middle;\n    }\n\n    .dataframe tbody tr th {\n        vertical-align: top;\n    }\n\n    .dataframe thead th {\n        text-align: right;\n    }\n</style>\n<table border=\"1\" class=\"dataframe\">\n  <thead>\n    <tr style=\"text-align: right;\">\n      <th></th>\n      <th>country</th>\n      <th>year</th>\n      <th>pop</th>\n      <th>continent</th>\n      <th>lifeExp</th>\n      <th>gdpPercap</th>\n    </tr>\n  </thead>\n  <tbody>\n    <tr>\n      <th>6</th>\n      <td>Afghanistan</td>\n      <td>1982</td>\n      <td>12881816.0</td>\n      <td>Asia</td>\n      <td>39.854</td>\n      <td>978.011439</td>\n    </tr>\n    <tr>\n      <th>7</th>\n      <td>Afghanistan</td>\n      <td>1987</td>\n      <td>13867957.0</td>\n      <td>Asia</td>\n      <td>40.822</td>\n      <td>852.395945</td>\n    </tr>\n    <tr>\n      <th>18</th>\n      <td>Albania</td>\n      <td>1982</td>\n      <td>2780097.0</td>\n      <td>Europe</td>\n      <td>70.420</td>\n      <td>3630.880722</td>\n    </tr>\n    <tr>\n      <th>19</th>\n      <td>Albania</td>\n      <td>1987</td>\n      <td>3075321.0</td>\n      <td>Europe</td>\n      <td>72.000</td>\n      <td>3738.932735</td>\n    </tr>\n    <tr>\n      <th>30</th>\n      <td>Algeria</td>\n      <td>1982</td>\n      <td>20033753.0</td>\n      <td>Africa</td>\n      <td>61.368</td>\n      <td>5745.160213</td>\n    </tr>\n    <tr>\n      <th>...</th>\n      <td>...</td>\n      <td>...</td>\n      <td>...</td>\n      <td>...</td>\n      <td>...</td>\n      <td>...</td>\n    </tr>\n    <tr>\n      <th>1675</th>\n      <td>Yemen, Rep.</td>\n      <td>1987</td>\n      <td>11219340.0</td>\n      <td>Asia</td>\n      <td>52.922</td>\n      <td>1971.741538</td>\n    </tr>\n    <tr>\n      <th>1686</th>\n      <td>Zambia</td>\n      <td>1982</td>\n      <td>6100407.0</td>\n      <td>Africa</td>\n      <td>51.821</td>\n      <td>1408.678565</td>\n    </tr>\n    <tr>\n      <th>1687</th>\n      <td>Zambia</td>\n      <td>1987</td>\n      <td>7272406.0</td>\n      <td>Africa</td>\n      <td>50.821</td>\n      <td>1213.315116</td>\n    </tr>\n    <tr>\n      <th>1698</th>\n      <td>Zimbabwe</td>\n      <td>1982</td>\n      <td>7636524.0</td>\n      <td>Africa</td>\n      <td>60.363</td>\n      <td>788.855041</td>\n    </tr>\n    <tr>\n      <th>1699</th>\n      <td>Zimbabwe</td>\n      <td>1987</td>\n      <td>9216418.0</td>\n      <td>Africa</td>\n      <td>62.351</td>\n      <td>706.157306</td>\n    </tr>\n  </tbody>\n</table>\n<p>284 rows × 6 columns</p>\n</div>"
     },
     "metadata": {},
     "execution_count": 4
    }
   ],
   "source": [
    "selected_year = [1982, 1987]\n",
    "filtered_df = df[  (df.year.isin(selected_year)  ) ]\n",
    "filtered_df"
   ]
  },
  {
   "cell_type": "code",
   "execution_count": null,
   "metadata": {},
   "outputs": [],
   "source": []
  }
 ],
 "metadata": {
  "kernelspec": {
   "display_name": "Python 3",
   "language": "python",
   "name": "python3"
  },
  "language_info": {
   "codemirror_mode": {
    "name": "ipython",
    "version": 3
   },
   "file_extension": ".py",
   "mimetype": "text/x-python",
   "name": "python",
   "nbconvert_exporter": "python",
   "pygments_lexer": "ipython3",
   "version": "3.8.5-final"
  }
 },
 "nbformat": 4,
 "nbformat_minor": 4
}